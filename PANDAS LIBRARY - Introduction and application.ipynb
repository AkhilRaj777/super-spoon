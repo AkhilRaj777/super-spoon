{
 "cells": [
  {
   "cell_type": "markdown",
   "id": "be104b4c",
   "metadata": {},
   "source": [
    "# Pandas"
   ]
  },
  {
   "cell_type": "code",
   "execution_count": 5,
   "id": "87e6382f",
   "metadata": {},
   "outputs": [],
   "source": [
    "import pandas as pd"
   ]
  },
  {
   "cell_type": "markdown",
   "id": "b9e10234",
   "metadata": {},
   "source": [
    "### Series"
   ]
  },
  {
   "cell_type": "code",
   "execution_count": 4,
   "id": "9bb9bfec",
   "metadata": {},
   "outputs": [],
   "source": [
    "city1=pd.Series([30,-20,15,-8])"
   ]
  },
  {
   "cell_type": "code",
   "execution_count": 5,
   "id": "2019cf5c",
   "metadata": {},
   "outputs": [
    {
     "data": {
      "text/plain": [
       "0    30\n",
       "1   -20\n",
       "2    15\n",
       "3    -8\n",
       "dtype: int64"
      ]
     },
     "execution_count": 5,
     "metadata": {},
     "output_type": "execute_result"
    }
   ],
   "source": [
    "city1"
   ]
  },
  {
   "cell_type": "code",
   "execution_count": 6,
   "id": "a5c811be",
   "metadata": {},
   "outputs": [
    {
     "data": {
      "text/plain": [
       "array([ 30, -20,  15,  -8], dtype=int64)"
      ]
     },
     "execution_count": 6,
     "metadata": {},
     "output_type": "execute_result"
    }
   ],
   "source": [
    "city1.values"
   ]
  },
  {
   "cell_type": "code",
   "execution_count": 7,
   "id": "5b613a09",
   "metadata": {},
   "outputs": [
    {
     "data": {
      "text/plain": [
       "RangeIndex(start=0, stop=4, step=1)"
      ]
     },
     "execution_count": 7,
     "metadata": {},
     "output_type": "execute_result"
    }
   ],
   "source": [
    "city1.index"
   ]
  },
  {
   "cell_type": "code",
   "execution_count": 8,
   "id": "329076eb",
   "metadata": {},
   "outputs": [
    {
     "data": {
      "text/plain": [
       "dtype('int64')"
      ]
     },
     "execution_count": 8,
     "metadata": {},
     "output_type": "execute_result"
    }
   ],
   "source": [
    "city1.dtype"
   ]
  },
  {
   "cell_type": "code",
   "execution_count": 15,
   "id": "e0fb213f",
   "metadata": {},
   "outputs": [],
   "source": [
    "city2=pd.Series([30,-20,15,-8], index=['day1', 'day2', 'day3', 'day4'])"
   ]
  },
  {
   "cell_type": "code",
   "execution_count": 16,
   "id": "88324ab6",
   "metadata": {},
   "outputs": [
    {
     "data": {
      "text/plain": [
       "day1    30\n",
       "day2   -20\n",
       "day3    15\n",
       "day4    -8\n",
       "dtype: int64"
      ]
     },
     "execution_count": 16,
     "metadata": {},
     "output_type": "execute_result"
    }
   ],
   "source": [
    "city2"
   ]
  },
  {
   "cell_type": "code",
   "execution_count": 17,
   "id": "dfbe2a97",
   "metadata": {},
   "outputs": [
    {
     "data": {
      "text/plain": [
       "15"
      ]
     },
     "execution_count": 17,
     "metadata": {},
     "output_type": "execute_result"
    }
   ],
   "source": [
    "city2['day3']"
   ]
  },
  {
   "cell_type": "code",
   "execution_count": 20,
   "id": "e1c326f6",
   "metadata": {},
   "outputs": [
    {
     "data": {
      "text/plain": [
       "day1    30\n",
       "day2   -20\n",
       "day3    15\n",
       "dtype: int64"
      ]
     },
     "execution_count": 20,
     "metadata": {},
     "output_type": "execute_result"
    }
   ],
   "source": [
    "city2[['day1', 'day2', 'day3']]"
   ]
  },
  {
   "cell_type": "code",
   "execution_count": 21,
   "id": "c4217080",
   "metadata": {},
   "outputs": [
    {
     "data": {
      "text/plain": [
       "day1     True\n",
       "day2    False\n",
       "day3     True\n",
       "day4    False\n",
       "dtype: bool"
      ]
     },
     "execution_count": 21,
     "metadata": {},
     "output_type": "execute_result"
    }
   ],
   "source": [
    "city2>0"
   ]
  },
  {
   "cell_type": "code",
   "execution_count": 22,
   "id": "a0ea2a10",
   "metadata": {},
   "outputs": [
    {
     "data": {
      "text/plain": [
       "day1    30\n",
       "day3    15\n",
       "dtype: int64"
      ]
     },
     "execution_count": 22,
     "metadata": {},
     "output_type": "execute_result"
    }
   ],
   "source": [
    "city2[city2>0]"
   ]
  },
  {
   "cell_type": "code",
   "execution_count": 23,
   "id": "dd565add",
   "metadata": {},
   "outputs": [
    {
     "data": {
      "text/plain": [
       "-20"
      ]
     },
     "execution_count": 23,
     "metadata": {},
     "output_type": "execute_result"
    }
   ],
   "source": [
    "city2.min()"
   ]
  },
  {
   "cell_type": "code",
   "execution_count": 26,
   "id": "4c384773",
   "metadata": {},
   "outputs": [
    {
     "data": {
      "text/plain": [
       "30"
      ]
     },
     "execution_count": 26,
     "metadata": {},
     "output_type": "execute_result"
    }
   ],
   "source": [
    "city2.max()"
   ]
  },
  {
   "cell_type": "code",
   "execution_count": 27,
   "id": "76e54145",
   "metadata": {},
   "outputs": [
    {
     "data": {
      "text/plain": [
       "day1    30\n",
       "dtype: int64"
      ]
     },
     "execution_count": 27,
     "metadata": {},
     "output_type": "execute_result"
    }
   ],
   "source": [
    "city2[(city2>10)&(city2>15)]"
   ]
  },
  {
   "cell_type": "code",
   "execution_count": 28,
   "id": "a61f32b8",
   "metadata": {},
   "outputs": [
    {
     "data": {
      "text/plain": [
       "day1    35\n",
       "day2   -15\n",
       "day3    20\n",
       "day4    -3\n",
       "dtype: int64"
      ]
     },
     "execution_count": 28,
     "metadata": {},
     "output_type": "execute_result"
    }
   ],
   "source": [
    "city2+5"
   ]
  },
  {
   "cell_type": "code",
   "execution_count": 29,
   "id": "4beb0ae1",
   "metadata": {},
   "outputs": [],
   "source": [
    "data = {'Kerala':28, 'Andhra':25, 'TN':28, 'Delhi':35}"
   ]
  },
  {
   "cell_type": "code",
   "execution_count": 32,
   "id": "207c1d9d",
   "metadata": {},
   "outputs": [
    {
     "data": {
      "text/plain": [
       "Kerala    28\n",
       "Andhra    25\n",
       "TN        28\n",
       "Delhi     35\n",
       "dtype: int64"
      ]
     },
     "execution_count": 32,
     "metadata": {},
     "output_type": "execute_result"
    }
   ],
   "source": [
    "pd.Series(data)"
   ]
  },
  {
   "cell_type": "code",
   "execution_count": 33,
   "id": "44b0dc55",
   "metadata": {},
   "outputs": [
    {
     "data": {
      "text/plain": [
       "{'Kerala': 28, 'Andhra': 25, 'TN': 28, 'Delhi': 35}"
      ]
     },
     "execution_count": 33,
     "metadata": {},
     "output_type": "execute_result"
    }
   ],
   "source": [
    "data"
   ]
  },
  {
   "cell_type": "code",
   "execution_count": 34,
   "id": "2f0d4c77",
   "metadata": {},
   "outputs": [],
   "source": [
    "data = pd.Series(data)"
   ]
  },
  {
   "cell_type": "code",
   "execution_count": 35,
   "id": "22c729e4",
   "metadata": {},
   "outputs": [
    {
     "data": {
      "text/plain": [
       "Kerala    28\n",
       "Andhra    25\n",
       "TN        28\n",
       "Delhi     35\n",
       "dtype: int64"
      ]
     },
     "execution_count": 35,
     "metadata": {},
     "output_type": "execute_result"
    }
   ],
   "source": [
    "data"
   ]
  },
  {
   "cell_type": "code",
   "execution_count": 36,
   "id": "95d50f58",
   "metadata": {},
   "outputs": [],
   "source": [
    "states = ['Kerala', 'MP', 'TN', 'Delhi', 'Jammu']"
   ]
  },
  {
   "cell_type": "code",
   "execution_count": 37,
   "id": "910aa085",
   "metadata": {},
   "outputs": [
    {
     "data": {
      "text/plain": [
       "['Kerala', 'MP', 'TN', 'Delhi', 'Jammu']"
      ]
     },
     "execution_count": 37,
     "metadata": {},
     "output_type": "execute_result"
    }
   ],
   "source": [
    "states"
   ]
  },
  {
   "cell_type": "code",
   "execution_count": 40,
   "id": "c85dc24c",
   "metadata": {},
   "outputs": [],
   "source": [
    "city4=pd.Series(data, index=states)"
   ]
  },
  {
   "cell_type": "code",
   "execution_count": 41,
   "id": "aeb82d67",
   "metadata": {},
   "outputs": [
    {
     "data": {
      "text/plain": [
       "Kerala    28.0\n",
       "MP         NaN\n",
       "TN        28.0\n",
       "Delhi     35.0\n",
       "Jammu      NaN\n",
       "dtype: float64"
      ]
     },
     "execution_count": 41,
     "metadata": {},
     "output_type": "execute_result"
    }
   ],
   "source": [
    "city4"
   ]
  },
  {
   "cell_type": "code",
   "execution_count": 42,
   "id": "7338bc2a",
   "metadata": {},
   "outputs": [
    {
     "data": {
      "text/plain": [
       "Kerala    False\n",
       "MP         True\n",
       "TN        False\n",
       "Delhi     False\n",
       "Jammu      True\n",
       "dtype: bool"
      ]
     },
     "execution_count": 42,
     "metadata": {},
     "output_type": "execute_result"
    }
   ],
   "source": [
    "city4.isna()"
   ]
  },
  {
   "cell_type": "code",
   "execution_count": 43,
   "id": "e21266aa",
   "metadata": {},
   "outputs": [
    {
     "data": {
      "text/plain": [
       "MP      NaN\n",
       "Jammu   NaN\n",
       "dtype: float64"
      ]
     },
     "execution_count": 43,
     "metadata": {},
     "output_type": "execute_result"
    }
   ],
   "source": [
    "city4[city4.isna()]"
   ]
  },
  {
   "cell_type": "code",
   "execution_count": 44,
   "id": "2c95db61",
   "metadata": {},
   "outputs": [
    {
     "data": {
      "text/plain": [
       "Kerala     True\n",
       "MP        False\n",
       "TN         True\n",
       "Delhi      True\n",
       "Jammu     False\n",
       "dtype: bool"
      ]
     },
     "execution_count": 44,
     "metadata": {},
     "output_type": "execute_result"
    }
   ],
   "source": [
    "city4.notna()"
   ]
  },
  {
   "cell_type": "code",
   "execution_count": 45,
   "id": "1538a158",
   "metadata": {},
   "outputs": [
    {
     "data": {
      "text/plain": [
       "Kerala    28.0\n",
       "TN        28.0\n",
       "Delhi     35.0\n",
       "dtype: float64"
      ]
     },
     "execution_count": 45,
     "metadata": {},
     "output_type": "execute_result"
    }
   ],
   "source": [
    "city4[city4.notna()]"
   ]
  },
  {
   "cell_type": "markdown",
   "id": "c0397a71",
   "metadata": {},
   "source": [
    "# More applications using Panda"
   ]
  },
  {
   "cell_type": "markdown",
   "id": "796f2c1f",
   "metadata": {},
   "source": [
    "### Data Frames"
   ]
  },
  {
   "cell_type": "code",
   "execution_count": 2,
   "id": "d32c8fb8",
   "metadata": {},
   "outputs": [],
   "source": [
    "data = {'Year':[2001,2002,2003,2004,2005],\n",
    "        'States':['Kerala','TN','Bihar','HP','MP'],\n",
    "        'Pop': [200,300,400,580,680]}"
   ]
  },
  {
   "cell_type": "code",
   "execution_count": 3,
   "id": "6bbbe8fc",
   "metadata": {},
   "outputs": [
    {
     "data": {
      "text/plain": [
       "{'Year': [2001, 2002, 2003, 2004, 2005],\n",
       " 'States': ['Kerala', 'TN', 'Bihar', 'HP', 'MP'],\n",
       " 'Pop': [200, 300, 400, 580, 680]}"
      ]
     },
     "execution_count": 3,
     "metadata": {},
     "output_type": "execute_result"
    }
   ],
   "source": [
    "data"
   ]
  },
  {
   "cell_type": "code",
   "execution_count": 6,
   "id": "5fe2f391",
   "metadata": {},
   "outputs": [],
   "source": [
    "pop_data=pd.DataFrame(data)"
   ]
  },
  {
   "cell_type": "code",
   "execution_count": 7,
   "id": "97b983ab",
   "metadata": {},
   "outputs": [
    {
     "data": {
      "text/html": [
       "<div>\n",
       "<style scoped>\n",
       "    .dataframe tbody tr th:only-of-type {\n",
       "        vertical-align: middle;\n",
       "    }\n",
       "\n",
       "    .dataframe tbody tr th {\n",
       "        vertical-align: top;\n",
       "    }\n",
       "\n",
       "    .dataframe thead th {\n",
       "        text-align: right;\n",
       "    }\n",
       "</style>\n",
       "<table border=\"1\" class=\"dataframe\">\n",
       "  <thead>\n",
       "    <tr style=\"text-align: right;\">\n",
       "      <th></th>\n",
       "      <th>Year</th>\n",
       "      <th>States</th>\n",
       "      <th>Pop</th>\n",
       "    </tr>\n",
       "  </thead>\n",
       "  <tbody>\n",
       "    <tr>\n",
       "      <th>0</th>\n",
       "      <td>2001</td>\n",
       "      <td>Kerala</td>\n",
       "      <td>200</td>\n",
       "    </tr>\n",
       "    <tr>\n",
       "      <th>1</th>\n",
       "      <td>2002</td>\n",
       "      <td>TN</td>\n",
       "      <td>300</td>\n",
       "    </tr>\n",
       "    <tr>\n",
       "      <th>2</th>\n",
       "      <td>2003</td>\n",
       "      <td>Bihar</td>\n",
       "      <td>400</td>\n",
       "    </tr>\n",
       "    <tr>\n",
       "      <th>3</th>\n",
       "      <td>2004</td>\n",
       "      <td>HP</td>\n",
       "      <td>580</td>\n",
       "    </tr>\n",
       "    <tr>\n",
       "      <th>4</th>\n",
       "      <td>2005</td>\n",
       "      <td>MP</td>\n",
       "      <td>680</td>\n",
       "    </tr>\n",
       "  </tbody>\n",
       "</table>\n",
       "</div>"
      ],
      "text/plain": [
       "   Year  States  Pop\n",
       "0  2001  Kerala  200\n",
       "1  2002      TN  300\n",
       "2  2003   Bihar  400\n",
       "3  2004      HP  580\n",
       "4  2005      MP  680"
      ]
     },
     "execution_count": 7,
     "metadata": {},
     "output_type": "execute_result"
    }
   ],
   "source": [
    "pop_data"
   ]
  },
  {
   "cell_type": "code",
   "execution_count": 8,
   "id": "f41712e5",
   "metadata": {},
   "outputs": [],
   "source": [
    "pop_data1=pd.DataFrame(pop_data, columns=['Year', 'States','Pop', 'Income'])"
   ]
  },
  {
   "cell_type": "code",
   "execution_count": 9,
   "id": "eccd4414",
   "metadata": {},
   "outputs": [
    {
     "data": {
      "text/html": [
       "<div>\n",
       "<style scoped>\n",
       "    .dataframe tbody tr th:only-of-type {\n",
       "        vertical-align: middle;\n",
       "    }\n",
       "\n",
       "    .dataframe tbody tr th {\n",
       "        vertical-align: top;\n",
       "    }\n",
       "\n",
       "    .dataframe thead th {\n",
       "        text-align: right;\n",
       "    }\n",
       "</style>\n",
       "<table border=\"1\" class=\"dataframe\">\n",
       "  <thead>\n",
       "    <tr style=\"text-align: right;\">\n",
       "      <th></th>\n",
       "      <th>Year</th>\n",
       "      <th>States</th>\n",
       "      <th>Pop</th>\n",
       "      <th>Income</th>\n",
       "    </tr>\n",
       "  </thead>\n",
       "  <tbody>\n",
       "    <tr>\n",
       "      <th>0</th>\n",
       "      <td>2001</td>\n",
       "      <td>Kerala</td>\n",
       "      <td>200</td>\n",
       "      <td>NaN</td>\n",
       "    </tr>\n",
       "    <tr>\n",
       "      <th>1</th>\n",
       "      <td>2002</td>\n",
       "      <td>TN</td>\n",
       "      <td>300</td>\n",
       "      <td>NaN</td>\n",
       "    </tr>\n",
       "    <tr>\n",
       "      <th>2</th>\n",
       "      <td>2003</td>\n",
       "      <td>Bihar</td>\n",
       "      <td>400</td>\n",
       "      <td>NaN</td>\n",
       "    </tr>\n",
       "    <tr>\n",
       "      <th>3</th>\n",
       "      <td>2004</td>\n",
       "      <td>HP</td>\n",
       "      <td>580</td>\n",
       "      <td>NaN</td>\n",
       "    </tr>\n",
       "    <tr>\n",
       "      <th>4</th>\n",
       "      <td>2005</td>\n",
       "      <td>MP</td>\n",
       "      <td>680</td>\n",
       "      <td>NaN</td>\n",
       "    </tr>\n",
       "  </tbody>\n",
       "</table>\n",
       "</div>"
      ],
      "text/plain": [
       "   Year  States  Pop  Income\n",
       "0  2001  Kerala  200     NaN\n",
       "1  2002      TN  300     NaN\n",
       "2  2003   Bihar  400     NaN\n",
       "3  2004      HP  580     NaN\n",
       "4  2005      MP  680     NaN"
      ]
     },
     "execution_count": 9,
     "metadata": {},
     "output_type": "execute_result"
    }
   ],
   "source": [
    "pop_data1"
   ]
  },
  {
   "cell_type": "code",
   "execution_count": 10,
   "id": "4b7259b2",
   "metadata": {},
   "outputs": [],
   "source": [
    "pop_data1['Income']=[20000,40000,10000,50000,80000]"
   ]
  },
  {
   "cell_type": "code",
   "execution_count": 11,
   "id": "d8da881b",
   "metadata": {},
   "outputs": [
    {
     "data": {
      "text/html": [
       "<div>\n",
       "<style scoped>\n",
       "    .dataframe tbody tr th:only-of-type {\n",
       "        vertical-align: middle;\n",
       "    }\n",
       "\n",
       "    .dataframe tbody tr th {\n",
       "        vertical-align: top;\n",
       "    }\n",
       "\n",
       "    .dataframe thead th {\n",
       "        text-align: right;\n",
       "    }\n",
       "</style>\n",
       "<table border=\"1\" class=\"dataframe\">\n",
       "  <thead>\n",
       "    <tr style=\"text-align: right;\">\n",
       "      <th></th>\n",
       "      <th>Year</th>\n",
       "      <th>States</th>\n",
       "      <th>Pop</th>\n",
       "      <th>Income</th>\n",
       "    </tr>\n",
       "  </thead>\n",
       "  <tbody>\n",
       "    <tr>\n",
       "      <th>0</th>\n",
       "      <td>2001</td>\n",
       "      <td>Kerala</td>\n",
       "      <td>200</td>\n",
       "      <td>20000</td>\n",
       "    </tr>\n",
       "    <tr>\n",
       "      <th>1</th>\n",
       "      <td>2002</td>\n",
       "      <td>TN</td>\n",
       "      <td>300</td>\n",
       "      <td>40000</td>\n",
       "    </tr>\n",
       "    <tr>\n",
       "      <th>2</th>\n",
       "      <td>2003</td>\n",
       "      <td>Bihar</td>\n",
       "      <td>400</td>\n",
       "      <td>10000</td>\n",
       "    </tr>\n",
       "    <tr>\n",
       "      <th>3</th>\n",
       "      <td>2004</td>\n",
       "      <td>HP</td>\n",
       "      <td>580</td>\n",
       "      <td>50000</td>\n",
       "    </tr>\n",
       "    <tr>\n",
       "      <th>4</th>\n",
       "      <td>2005</td>\n",
       "      <td>MP</td>\n",
       "      <td>680</td>\n",
       "      <td>80000</td>\n",
       "    </tr>\n",
       "  </tbody>\n",
       "</table>\n",
       "</div>"
      ],
      "text/plain": [
       "   Year  States  Pop  Income\n",
       "0  2001  Kerala  200   20000\n",
       "1  2002      TN  300   40000\n",
       "2  2003   Bihar  400   10000\n",
       "3  2004      HP  580   50000\n",
       "4  2005      MP  680   80000"
      ]
     },
     "execution_count": 11,
     "metadata": {},
     "output_type": "execute_result"
    }
   ],
   "source": [
    "pop_data1"
   ]
  },
  {
   "cell_type": "code",
   "execution_count": 12,
   "id": "67fbb2d2",
   "metadata": {},
   "outputs": [],
   "source": [
    "pop_data1['debt'] = [50,60,1,30,100]"
   ]
  },
  {
   "cell_type": "code",
   "execution_count": 13,
   "id": "0eaeb841",
   "metadata": {},
   "outputs": [
    {
     "data": {
      "text/html": [
       "<div>\n",
       "<style scoped>\n",
       "    .dataframe tbody tr th:only-of-type {\n",
       "        vertical-align: middle;\n",
       "    }\n",
       "\n",
       "    .dataframe tbody tr th {\n",
       "        vertical-align: top;\n",
       "    }\n",
       "\n",
       "    .dataframe thead th {\n",
       "        text-align: right;\n",
       "    }\n",
       "</style>\n",
       "<table border=\"1\" class=\"dataframe\">\n",
       "  <thead>\n",
       "    <tr style=\"text-align: right;\">\n",
       "      <th></th>\n",
       "      <th>Year</th>\n",
       "      <th>States</th>\n",
       "      <th>Pop</th>\n",
       "      <th>Income</th>\n",
       "      <th>debt</th>\n",
       "    </tr>\n",
       "  </thead>\n",
       "  <tbody>\n",
       "    <tr>\n",
       "      <th>0</th>\n",
       "      <td>2001</td>\n",
       "      <td>Kerala</td>\n",
       "      <td>200</td>\n",
       "      <td>20000</td>\n",
       "      <td>50</td>\n",
       "    </tr>\n",
       "    <tr>\n",
       "      <th>1</th>\n",
       "      <td>2002</td>\n",
       "      <td>TN</td>\n",
       "      <td>300</td>\n",
       "      <td>40000</td>\n",
       "      <td>60</td>\n",
       "    </tr>\n",
       "    <tr>\n",
       "      <th>2</th>\n",
       "      <td>2003</td>\n",
       "      <td>Bihar</td>\n",
       "      <td>400</td>\n",
       "      <td>10000</td>\n",
       "      <td>1</td>\n",
       "    </tr>\n",
       "    <tr>\n",
       "      <th>3</th>\n",
       "      <td>2004</td>\n",
       "      <td>HP</td>\n",
       "      <td>580</td>\n",
       "      <td>50000</td>\n",
       "      <td>30</td>\n",
       "    </tr>\n",
       "    <tr>\n",
       "      <th>4</th>\n",
       "      <td>2005</td>\n",
       "      <td>MP</td>\n",
       "      <td>680</td>\n",
       "      <td>80000</td>\n",
       "      <td>100</td>\n",
       "    </tr>\n",
       "  </tbody>\n",
       "</table>\n",
       "</div>"
      ],
      "text/plain": [
       "   Year  States  Pop  Income  debt\n",
       "0  2001  Kerala  200   20000    50\n",
       "1  2002      TN  300   40000    60\n",
       "2  2003   Bihar  400   10000     1\n",
       "3  2004      HP  580   50000    30\n",
       "4  2005      MP  680   80000   100"
      ]
     },
     "execution_count": 13,
     "metadata": {},
     "output_type": "execute_result"
    }
   ],
   "source": [
    "pop_data1"
   ]
  },
  {
   "cell_type": "code",
   "execution_count": 14,
   "id": "b5ac4c61",
   "metadata": {},
   "outputs": [],
   "source": [
    "pop_data1['savings'] = pop_data1['Income'] - pop_data1['debt']"
   ]
  },
  {
   "cell_type": "code",
   "execution_count": 15,
   "id": "34c4f31d",
   "metadata": {},
   "outputs": [
    {
     "data": {
      "text/html": [
       "<div>\n",
       "<style scoped>\n",
       "    .dataframe tbody tr th:only-of-type {\n",
       "        vertical-align: middle;\n",
       "    }\n",
       "\n",
       "    .dataframe tbody tr th {\n",
       "        vertical-align: top;\n",
       "    }\n",
       "\n",
       "    .dataframe thead th {\n",
       "        text-align: right;\n",
       "    }\n",
       "</style>\n",
       "<table border=\"1\" class=\"dataframe\">\n",
       "  <thead>\n",
       "    <tr style=\"text-align: right;\">\n",
       "      <th></th>\n",
       "      <th>Year</th>\n",
       "      <th>States</th>\n",
       "      <th>Pop</th>\n",
       "      <th>Income</th>\n",
       "      <th>debt</th>\n",
       "      <th>savings</th>\n",
       "    </tr>\n",
       "  </thead>\n",
       "  <tbody>\n",
       "    <tr>\n",
       "      <th>0</th>\n",
       "      <td>2001</td>\n",
       "      <td>Kerala</td>\n",
       "      <td>200</td>\n",
       "      <td>20000</td>\n",
       "      <td>50</td>\n",
       "      <td>19950</td>\n",
       "    </tr>\n",
       "    <tr>\n",
       "      <th>1</th>\n",
       "      <td>2002</td>\n",
       "      <td>TN</td>\n",
       "      <td>300</td>\n",
       "      <td>40000</td>\n",
       "      <td>60</td>\n",
       "      <td>39940</td>\n",
       "    </tr>\n",
       "    <tr>\n",
       "      <th>2</th>\n",
       "      <td>2003</td>\n",
       "      <td>Bihar</td>\n",
       "      <td>400</td>\n",
       "      <td>10000</td>\n",
       "      <td>1</td>\n",
       "      <td>9999</td>\n",
       "    </tr>\n",
       "    <tr>\n",
       "      <th>3</th>\n",
       "      <td>2004</td>\n",
       "      <td>HP</td>\n",
       "      <td>580</td>\n",
       "      <td>50000</td>\n",
       "      <td>30</td>\n",
       "      <td>49970</td>\n",
       "    </tr>\n",
       "    <tr>\n",
       "      <th>4</th>\n",
       "      <td>2005</td>\n",
       "      <td>MP</td>\n",
       "      <td>680</td>\n",
       "      <td>80000</td>\n",
       "      <td>100</td>\n",
       "      <td>79900</td>\n",
       "    </tr>\n",
       "  </tbody>\n",
       "</table>\n",
       "</div>"
      ],
      "text/plain": [
       "   Year  States  Pop  Income  debt  savings\n",
       "0  2001  Kerala  200   20000    50    19950\n",
       "1  2002      TN  300   40000    60    39940\n",
       "2  2003   Bihar  400   10000     1     9999\n",
       "3  2004      HP  580   50000    30    49970\n",
       "4  2005      MP  680   80000   100    79900"
      ]
     },
     "execution_count": 15,
     "metadata": {},
     "output_type": "execute_result"
    }
   ],
   "source": [
    "pop_data1"
   ]
  },
  {
   "cell_type": "code",
   "execution_count": 19,
   "id": "6d9d146b",
   "metadata": {},
   "outputs": [
    {
     "ename": "SyntaxError",
     "evalue": "(unicode error) 'unicodeescape' codec can't decode bytes in position 2-3: truncated \\UXXXXXXXX escape (1145928912.py, line 1)",
     "output_type": "error",
     "traceback": [
      "\u001b[1;36m  Input \u001b[1;32mIn [19]\u001b[1;36m\u001b[0m\n\u001b[1;33m    auto_data = pd.read_csv('C:\\Users\\91949\\OneDrive\\Desktop\\Data science\\auto-mpg.csv')\u001b[0m\n\u001b[1;37m                                                                                       ^\u001b[0m\n\u001b[1;31mSyntaxError\u001b[0m\u001b[1;31m:\u001b[0m (unicode error) 'unicodeescape' codec can't decode bytes in position 2-3: truncated \\UXXXXXXXX escape\n"
     ]
    }
   ],
   "source": [
    "auto_data = pd.read_csv('auto-mpg.csv')"
   ]
  },
  {
   "cell_type": "code",
   "execution_count": null,
   "id": "07b771ef",
   "metadata": {},
   "outputs": [],
   "source": []
  }
 ],
 "metadata": {
  "kernelspec": {
   "display_name": "Python 3 (ipykernel)",
   "language": "python",
   "name": "python3"
  },
  "language_info": {
   "codemirror_mode": {
    "name": "ipython",
    "version": 3
   },
   "file_extension": ".py",
   "mimetype": "text/x-python",
   "name": "python",
   "nbconvert_exporter": "python",
   "pygments_lexer": "ipython3",
   "version": "3.9.12"
  }
 },
 "nbformat": 4,
 "nbformat_minor": 5
}
